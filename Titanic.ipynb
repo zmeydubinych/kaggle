{
 "cells": [
  {
   "cell_type": "code",
   "execution_count": 1,
   "id": "0ef8c519",
   "metadata": {
    "_cell_guid": "b1076dfc-b9ad-4769-8c92-a6c4dae69d19",
    "_uuid": "8f2839f25d086af736a60e9eeb907d3b93b6e0e5",
    "execution": {
     "iopub.execute_input": "2023-08-21T08:26:50.991365Z",
     "iopub.status.busy": "2023-08-21T08:26:50.990980Z",
     "iopub.status.idle": "2023-08-21T08:26:51.006338Z",
     "shell.execute_reply": "2023-08-21T08:26:51.004913Z"
    },
    "papermill": {
     "duration": 0.027067,
     "end_time": "2023-08-21T08:26:51.008625",
     "exception": false,
     "start_time": "2023-08-21T08:26:50.981558",
     "status": "completed"
    },
    "tags": []
   },
   "outputs": [
    {
     "name": "stdout",
     "output_type": "stream",
     "text": [
      "/kaggle/input/titanic/train.csv\n",
      "/kaggle/input/titanic/test.csv\n",
      "/kaggle/input/titanic/gender_submission.csv\n"
     ]
    }
   ],
   "source": [
    "# This Python 3 environment comes with many helpful analytics libraries installed\n",
    "# It is defined by the kaggle/python Docker image: https://github.com/kaggle/docker-python\n",
    "# For example, here's several helpful packages to load\n",
    "\n",
    "import numpy as np # linear algebra\n",
    "import pandas as pd # data processing, CSV file I/O (e.g. pd.read_csv)\n",
    "\n",
    "# Input data files are available in the read-only \"../input/\" directory\n",
    "# For example, running this (by clicking run or pressing Shift+Enter) will list all files under the input directory\n",
    "\n",
    "# import os\n",
    "# for dirname, _, filenames in os.walk('/kaggle/input'):\n",
    "#     for filename in filenames:\n",
    "#         print(os.path.join(dirname, filename))\n",
    "\n",
    "# You can write up to 20GB to the current directory (/kaggle/working/) that gets preserved as output when you create a version using \"Save & Run All\" \n",
    "# You can also write temporary files to /kaggle/temp/, but they won't be saved outside of the current session"
   ]
  },
  {
   "cell_type": "code",
   "execution_count": 2,
   "id": "a9e60da5",
   "metadata": {
    "execution": {
     "iopub.execute_input": "2023-08-21T08:26:51.025679Z",
     "iopub.status.busy": "2023-08-21T08:26:51.025284Z",
     "iopub.status.idle": "2023-08-21T08:26:51.055833Z",
     "shell.execute_reply": "2023-08-21T08:26:51.054957Z"
    },
    "papermill": {
     "duration": 0.042211,
     "end_time": "2023-08-21T08:26:51.058743",
     "exception": false,
     "start_time": "2023-08-21T08:26:51.016532",
     "status": "completed"
    },
    "tags": []
   },
   "outputs": [
    {
     "data": {
      "text/plain": [
       "Index(['PassengerId', 'Survived', 'Pclass', 'Name', 'Sex', 'Age', 'SibSp',\n",
       "       'Parch', 'Ticket', 'Fare', 'Cabin', 'Embarked'],\n",
       "      dtype='object')"
      ]
     },
     "execution_count": 2,
     "metadata": {},
     "output_type": "execute_result"
    }
   ],
   "source": [
    "train_data = pd.read_csv(\"/kaggle/input/titanic/train.csv\")\n",
    "train_data.head()\n",
    "train_data.columns"
   ]
  },
  {
   "cell_type": "code",
   "execution_count": 3,
   "id": "ae499f3f",
   "metadata": {
    "execution": {
     "iopub.execute_input": "2023-08-21T08:26:51.075974Z",
     "iopub.status.busy": "2023-08-21T08:26:51.075613Z",
     "iopub.status.idle": "2023-08-21T08:26:51.108895Z",
     "shell.execute_reply": "2023-08-21T08:26:51.107673Z"
    },
    "papermill": {
     "duration": 0.04555,
     "end_time": "2023-08-21T08:26:51.111897",
     "exception": false,
     "start_time": "2023-08-21T08:26:51.066347",
     "status": "completed"
    },
    "tags": []
   },
   "outputs": [
    {
     "data": {
      "text/html": [
       "<div>\n",
       "<style scoped>\n",
       "    .dataframe tbody tr th:only-of-type {\n",
       "        vertical-align: middle;\n",
       "    }\n",
       "\n",
       "    .dataframe tbody tr th {\n",
       "        vertical-align: top;\n",
       "    }\n",
       "\n",
       "    .dataframe thead th {\n",
       "        text-align: right;\n",
       "    }\n",
       "</style>\n",
       "<table border=\"1\" class=\"dataframe\">\n",
       "  <thead>\n",
       "    <tr style=\"text-align: right;\">\n",
       "      <th></th>\n",
       "      <th>PassengerId</th>\n",
       "      <th>Pclass</th>\n",
       "      <th>Name</th>\n",
       "      <th>Sex</th>\n",
       "      <th>Age</th>\n",
       "      <th>SibSp</th>\n",
       "      <th>Parch</th>\n",
       "      <th>Ticket</th>\n",
       "      <th>Fare</th>\n",
       "      <th>Cabin</th>\n",
       "      <th>Embarked</th>\n",
       "    </tr>\n",
       "  </thead>\n",
       "  <tbody>\n",
       "    <tr>\n",
       "      <th>0</th>\n",
       "      <td>892</td>\n",
       "      <td>3</td>\n",
       "      <td>Kelly, Mr. James</td>\n",
       "      <td>male</td>\n",
       "      <td>34.5</td>\n",
       "      <td>0</td>\n",
       "      <td>0</td>\n",
       "      <td>330911</td>\n",
       "      <td>7.8292</td>\n",
       "      <td>NaN</td>\n",
       "      <td>Q</td>\n",
       "    </tr>\n",
       "    <tr>\n",
       "      <th>1</th>\n",
       "      <td>893</td>\n",
       "      <td>3</td>\n",
       "      <td>Wilkes, Mrs. James (Ellen Needs)</td>\n",
       "      <td>female</td>\n",
       "      <td>47.0</td>\n",
       "      <td>1</td>\n",
       "      <td>0</td>\n",
       "      <td>363272</td>\n",
       "      <td>7.0000</td>\n",
       "      <td>NaN</td>\n",
       "      <td>S</td>\n",
       "    </tr>\n",
       "    <tr>\n",
       "      <th>2</th>\n",
       "      <td>894</td>\n",
       "      <td>2</td>\n",
       "      <td>Myles, Mr. Thomas Francis</td>\n",
       "      <td>male</td>\n",
       "      <td>62.0</td>\n",
       "      <td>0</td>\n",
       "      <td>0</td>\n",
       "      <td>240276</td>\n",
       "      <td>9.6875</td>\n",
       "      <td>NaN</td>\n",
       "      <td>Q</td>\n",
       "    </tr>\n",
       "    <tr>\n",
       "      <th>3</th>\n",
       "      <td>895</td>\n",
       "      <td>3</td>\n",
       "      <td>Wirz, Mr. Albert</td>\n",
       "      <td>male</td>\n",
       "      <td>27.0</td>\n",
       "      <td>0</td>\n",
       "      <td>0</td>\n",
       "      <td>315154</td>\n",
       "      <td>8.6625</td>\n",
       "      <td>NaN</td>\n",
       "      <td>S</td>\n",
       "    </tr>\n",
       "    <tr>\n",
       "      <th>4</th>\n",
       "      <td>896</td>\n",
       "      <td>3</td>\n",
       "      <td>Hirvonen, Mrs. Alexander (Helga E Lindqvist)</td>\n",
       "      <td>female</td>\n",
       "      <td>22.0</td>\n",
       "      <td>1</td>\n",
       "      <td>1</td>\n",
       "      <td>3101298</td>\n",
       "      <td>12.2875</td>\n",
       "      <td>NaN</td>\n",
       "      <td>S</td>\n",
       "    </tr>\n",
       "  </tbody>\n",
       "</table>\n",
       "</div>"
      ],
      "text/plain": [
       "   PassengerId  Pclass                                          Name     Sex  \\\n",
       "0          892       3                              Kelly, Mr. James    male   \n",
       "1          893       3              Wilkes, Mrs. James (Ellen Needs)  female   \n",
       "2          894       2                     Myles, Mr. Thomas Francis    male   \n",
       "3          895       3                              Wirz, Mr. Albert    male   \n",
       "4          896       3  Hirvonen, Mrs. Alexander (Helga E Lindqvist)  female   \n",
       "\n",
       "    Age  SibSp  Parch   Ticket     Fare Cabin Embarked  \n",
       "0  34.5      0      0   330911   7.8292   NaN        Q  \n",
       "1  47.0      1      0   363272   7.0000   NaN        S  \n",
       "2  62.0      0      0   240276   9.6875   NaN        Q  \n",
       "3  27.0      0      0   315154   8.6625   NaN        S  \n",
       "4  22.0      1      1  3101298  12.2875   NaN        S  "
      ]
     },
     "execution_count": 3,
     "metadata": {},
     "output_type": "execute_result"
    }
   ],
   "source": [
    "test_data = pd.read_csv(\"/kaggle/input/titanic/test.csv\")\n",
    "x_test=test_data\n",
    "x_test.head()"
   ]
  },
  {
   "cell_type": "code",
   "execution_count": 4,
   "id": "95aec5af",
   "metadata": {
    "execution": {
     "iopub.execute_input": "2023-08-21T08:26:51.129642Z",
     "iopub.status.busy": "2023-08-21T08:26:51.129226Z",
     "iopub.status.idle": "2023-08-21T08:26:51.140895Z",
     "shell.execute_reply": "2023-08-21T08:26:51.139669Z"
    },
    "papermill": {
     "duration": 0.023488,
     "end_time": "2023-08-21T08:26:51.143499",
     "exception": false,
     "start_time": "2023-08-21T08:26:51.120011",
     "status": "completed"
    },
    "tags": []
   },
   "outputs": [],
   "source": [
    "y_train=train_data['Survived'].to_numpy()\n",
    "train_data.drop(['Survived'], axis=1, inplace=True)"
   ]
  },
  {
   "cell_type": "code",
   "execution_count": 5,
   "id": "05117b52",
   "metadata": {
    "execution": {
     "iopub.execute_input": "2023-08-21T08:26:51.163196Z",
     "iopub.status.busy": "2023-08-21T08:26:51.162531Z",
     "iopub.status.idle": "2023-08-21T08:26:51.179809Z",
     "shell.execute_reply": "2023-08-21T08:26:51.178664Z"
    },
    "papermill": {
     "duration": 0.030737,
     "end_time": "2023-08-21T08:26:51.182279",
     "exception": false,
     "start_time": "2023-08-21T08:26:51.151542",
     "status": "completed"
    },
    "tags": []
   },
   "outputs": [
    {
     "data": {
      "text/html": [
       "<div>\n",
       "<style scoped>\n",
       "    .dataframe tbody tr th:only-of-type {\n",
       "        vertical-align: middle;\n",
       "    }\n",
       "\n",
       "    .dataframe tbody tr th {\n",
       "        vertical-align: top;\n",
       "    }\n",
       "\n",
       "    .dataframe thead th {\n",
       "        text-align: right;\n",
       "    }\n",
       "</style>\n",
       "<table border=\"1\" class=\"dataframe\">\n",
       "  <thead>\n",
       "    <tr style=\"text-align: right;\">\n",
       "      <th></th>\n",
       "      <th>PassengerId</th>\n",
       "      <th>Pclass</th>\n",
       "      <th>Name</th>\n",
       "      <th>Sex</th>\n",
       "      <th>Age</th>\n",
       "      <th>SibSp</th>\n",
       "      <th>Parch</th>\n",
       "      <th>Ticket</th>\n",
       "      <th>Fare</th>\n",
       "      <th>Cabin</th>\n",
       "      <th>Embarked</th>\n",
       "    </tr>\n",
       "  </thead>\n",
       "  <tbody>\n",
       "    <tr>\n",
       "      <th>0</th>\n",
       "      <td>1</td>\n",
       "      <td>3</td>\n",
       "      <td>Braund, Mr. Owen Harris</td>\n",
       "      <td>male</td>\n",
       "      <td>22.0</td>\n",
       "      <td>1</td>\n",
       "      <td>0</td>\n",
       "      <td>A/5 21171</td>\n",
       "      <td>7.2500</td>\n",
       "      <td>NaN</td>\n",
       "      <td>S</td>\n",
       "    </tr>\n",
       "    <tr>\n",
       "      <th>1</th>\n",
       "      <td>2</td>\n",
       "      <td>1</td>\n",
       "      <td>Cumings, Mrs. John Bradley (Florence Briggs Th...</td>\n",
       "      <td>female</td>\n",
       "      <td>38.0</td>\n",
       "      <td>1</td>\n",
       "      <td>0</td>\n",
       "      <td>PC 17599</td>\n",
       "      <td>71.2833</td>\n",
       "      <td>C85</td>\n",
       "      <td>C</td>\n",
       "    </tr>\n",
       "    <tr>\n",
       "      <th>2</th>\n",
       "      <td>3</td>\n",
       "      <td>3</td>\n",
       "      <td>Heikkinen, Miss. Laina</td>\n",
       "      <td>female</td>\n",
       "      <td>26.0</td>\n",
       "      <td>0</td>\n",
       "      <td>0</td>\n",
       "      <td>STON/O2. 3101282</td>\n",
       "      <td>7.9250</td>\n",
       "      <td>NaN</td>\n",
       "      <td>S</td>\n",
       "    </tr>\n",
       "    <tr>\n",
       "      <th>3</th>\n",
       "      <td>4</td>\n",
       "      <td>1</td>\n",
       "      <td>Futrelle, Mrs. Jacques Heath (Lily May Peel)</td>\n",
       "      <td>female</td>\n",
       "      <td>35.0</td>\n",
       "      <td>1</td>\n",
       "      <td>0</td>\n",
       "      <td>113803</td>\n",
       "      <td>53.1000</td>\n",
       "      <td>C123</td>\n",
       "      <td>S</td>\n",
       "    </tr>\n",
       "    <tr>\n",
       "      <th>4</th>\n",
       "      <td>5</td>\n",
       "      <td>3</td>\n",
       "      <td>Allen, Mr. William Henry</td>\n",
       "      <td>male</td>\n",
       "      <td>35.0</td>\n",
       "      <td>0</td>\n",
       "      <td>0</td>\n",
       "      <td>373450</td>\n",
       "      <td>8.0500</td>\n",
       "      <td>NaN</td>\n",
       "      <td>S</td>\n",
       "    </tr>\n",
       "  </tbody>\n",
       "</table>\n",
       "</div>"
      ],
      "text/plain": [
       "   PassengerId  Pclass                                               Name  \\\n",
       "0            1       3                            Braund, Mr. Owen Harris   \n",
       "1            2       1  Cumings, Mrs. John Bradley (Florence Briggs Th...   \n",
       "2            3       3                             Heikkinen, Miss. Laina   \n",
       "3            4       1       Futrelle, Mrs. Jacques Heath (Lily May Peel)   \n",
       "4            5       3                           Allen, Mr. William Henry   \n",
       "\n",
       "      Sex   Age  SibSp  Parch            Ticket     Fare Cabin Embarked  \n",
       "0    male  22.0      1      0         A/5 21171   7.2500   NaN        S  \n",
       "1  female  38.0      1      0          PC 17599  71.2833   C85        C  \n",
       "2  female  26.0      0      0  STON/O2. 3101282   7.9250   NaN        S  \n",
       "3  female  35.0      1      0            113803  53.1000  C123        S  \n",
       "4    male  35.0      0      0            373450   8.0500   NaN        S  "
      ]
     },
     "execution_count": 5,
     "metadata": {},
     "output_type": "execute_result"
    }
   ],
   "source": [
    "x_train=train_data\n",
    "x_train.head()"
   ]
  },
  {
   "cell_type": "code",
   "execution_count": 6,
   "id": "dc7f5e53",
   "metadata": {
    "execution": {
     "iopub.execute_input": "2023-08-21T08:26:51.201662Z",
     "iopub.status.busy": "2023-08-21T08:26:51.200800Z",
     "iopub.status.idle": "2023-08-21T08:26:51.219579Z",
     "shell.execute_reply": "2023-08-21T08:26:51.218413Z"
    },
    "papermill": {
     "duration": 0.031196,
     "end_time": "2023-08-21T08:26:51.222267",
     "exception": false,
     "start_time": "2023-08-21T08:26:51.191071",
     "status": "completed"
    },
    "tags": []
   },
   "outputs": [],
   "source": [
    "from pandas.api.types import is_numeric_dtype\n",
    "def get_categorical_indicies(x_train):\n",
    "    cats = []\n",
    "    for col in x_train.columns:\n",
    "        if is_numeric_dtype(x_train[col]):\n",
    "            pass\n",
    "        else:\n",
    "            cats.append(col)\n",
    "    cat_indicies = []\n",
    "    for col in cats:\n",
    "        cat_indicies.append(x_train.columns.get_loc(col))\n",
    "    return cat_indicies\n",
    "categorical_indicies = get_categorical_indicies(x_train)\n",
    "\n",
    "def convert_cats(x_train):\n",
    "    cats = []\n",
    "    for col in x_train.columns:\n",
    "        if is_numeric_dtype(x_train[col]):\n",
    "            pass\n",
    "        else:\n",
    "            cats.append(col)\n",
    "    cat_indicies = []\n",
    "    for col in cats:\n",
    "        x_train[col] = x_train[col].astype('category')\n",
    "convert_cats(x_train)"
   ]
  },
  {
   "cell_type": "code",
   "execution_count": 7,
   "id": "10e7a696",
   "metadata": {
    "execution": {
     "iopub.execute_input": "2023-08-21T08:26:51.240633Z",
     "iopub.status.busy": "2023-08-21T08:26:51.239965Z",
     "iopub.status.idle": "2023-08-21T08:26:51.254989Z",
     "shell.execute_reply": "2023-08-21T08:26:51.253919Z"
    },
    "papermill": {
     "duration": 0.027061,
     "end_time": "2023-08-21T08:26:51.257614",
     "exception": false,
     "start_time": "2023-08-21T08:26:51.230553",
     "status": "completed"
    },
    "tags": []
   },
   "outputs": [],
   "source": [
    "from pandas.api.types import is_numeric_dtype\n",
    "def get_categorical_indicies(x_test):\n",
    "    cats = []\n",
    "    for col in x_test.columns:\n",
    "        if is_numeric_dtype(x_test[col]):\n",
    "            pass\n",
    "        else:\n",
    "            cats.append(col)\n",
    "    cat_indicies = []\n",
    "    for col in cats:\n",
    "        cat_indicies.append(x_test.columns.get_loc(col))\n",
    "    return cat_indicies\n",
    "categorical_indicies1 = get_categorical_indicies(x_test)\n",
    "\n",
    "def convert_cats(x_test):\n",
    "    cats = []\n",
    "    for col in x_test.columns:\n",
    "        if is_numeric_dtype(x_test[col]):\n",
    "            pass\n",
    "        else:\n",
    "            cats.append(col)\n",
    "    cat_indicies = []\n",
    "    for col in cats:\n",
    "        x_test[col] = x_test[col].astype('category')\n",
    "convert_cats(x_test)"
   ]
  },
  {
   "cell_type": "code",
   "execution_count": 8,
   "id": "e1c36684",
   "metadata": {
    "execution": {
     "iopub.execute_input": "2023-08-21T08:26:51.276414Z",
     "iopub.status.busy": "2023-08-21T08:26:51.275584Z",
     "iopub.status.idle": "2023-08-21T08:26:51.281775Z",
     "shell.execute_reply": "2023-08-21T08:26:51.280583Z"
    },
    "papermill": {
     "duration": 0.018447,
     "end_time": "2023-08-21T08:26:51.284198",
     "exception": false,
     "start_time": "2023-08-21T08:26:51.265751",
     "status": "completed"
    },
    "tags": []
   },
   "outputs": [
    {
     "name": "stdout",
     "output_type": "stream",
     "text": [
      "[2, 3, 7, 9, 10]\n",
      "[2, 3, 7, 9, 10]\n"
     ]
    }
   ],
   "source": [
    "print(categorical_indicies)\n",
    "print(categorical_indicies1)"
   ]
  },
  {
   "cell_type": "code",
   "execution_count": 9,
   "id": "e1bedf72",
   "metadata": {
    "execution": {
     "iopub.execute_input": "2023-08-21T08:26:51.303268Z",
     "iopub.status.busy": "2023-08-21T08:26:51.302174Z",
     "iopub.status.idle": "2023-08-21T08:26:51.314474Z",
     "shell.execute_reply": "2023-08-21T08:26:51.313335Z"
    },
    "papermill": {
     "duration": 0.024578,
     "end_time": "2023-08-21T08:26:51.316928",
     "exception": false,
     "start_time": "2023-08-21T08:26:51.292350",
     "status": "completed"
    },
    "tags": []
   },
   "outputs": [],
   "source": [
    "zero_data_set_sum=x_train.isnull().sum()\n",
    "zero_data_set_percentage=x_train.isnull().sum()/x_train.shape[0]*100\n",
    "zero_data_set=pd.DataFrame({'sum':zero_data_set_sum, 'percentage': zero_data_set_percentage})\n",
    "zero=zero_data_set[zero_data_set['sum']>0].head(40)"
   ]
  },
  {
   "cell_type": "code",
   "execution_count": 10,
   "id": "68c26ab6",
   "metadata": {
    "execution": {
     "iopub.execute_input": "2023-08-21T08:26:51.335019Z",
     "iopub.status.busy": "2023-08-21T08:26:51.334615Z",
     "iopub.status.idle": "2023-08-21T08:26:51.344688Z",
     "shell.execute_reply": "2023-08-21T08:26:51.343586Z"
    },
    "papermill": {
     "duration": 0.021512,
     "end_time": "2023-08-21T08:26:51.346796",
     "exception": false,
     "start_time": "2023-08-21T08:26:51.325284",
     "status": "completed"
    },
    "tags": []
   },
   "outputs": [
    {
     "data": {
      "text/html": [
       "<div>\n",
       "<style scoped>\n",
       "    .dataframe tbody tr th:only-of-type {\n",
       "        vertical-align: middle;\n",
       "    }\n",
       "\n",
       "    .dataframe tbody tr th {\n",
       "        vertical-align: top;\n",
       "    }\n",
       "\n",
       "    .dataframe thead th {\n",
       "        text-align: right;\n",
       "    }\n",
       "</style>\n",
       "<table border=\"1\" class=\"dataframe\">\n",
       "  <thead>\n",
       "    <tr style=\"text-align: right;\">\n",
       "      <th></th>\n",
       "      <th>sum</th>\n",
       "      <th>percentage</th>\n",
       "    </tr>\n",
       "  </thead>\n",
       "  <tbody>\n",
       "    <tr>\n",
       "      <th>Age</th>\n",
       "      <td>177</td>\n",
       "      <td>19.865320</td>\n",
       "    </tr>\n",
       "    <tr>\n",
       "      <th>Cabin</th>\n",
       "      <td>687</td>\n",
       "      <td>77.104377</td>\n",
       "    </tr>\n",
       "    <tr>\n",
       "      <th>Embarked</th>\n",
       "      <td>2</td>\n",
       "      <td>0.224467</td>\n",
       "    </tr>\n",
       "  </tbody>\n",
       "</table>\n",
       "</div>"
      ],
      "text/plain": [
       "          sum  percentage\n",
       "Age       177   19.865320\n",
       "Cabin     687   77.104377\n",
       "Embarked    2    0.224467"
      ]
     },
     "execution_count": 10,
     "metadata": {},
     "output_type": "execute_result"
    }
   ],
   "source": [
    "zero"
   ]
  },
  {
   "cell_type": "code",
   "execution_count": 11,
   "id": "473ee2a2",
   "metadata": {
    "execution": {
     "iopub.execute_input": "2023-08-21T08:26:51.366337Z",
     "iopub.status.busy": "2023-08-21T08:26:51.365590Z",
     "iopub.status.idle": "2023-08-21T08:26:52.895631Z",
     "shell.execute_reply": "2023-08-21T08:26:52.894614Z"
    },
    "papermill": {
     "duration": 1.543082,
     "end_time": "2023-08-21T08:26:52.898306",
     "exception": false,
     "start_time": "2023-08-21T08:26:51.355224",
     "status": "completed"
    },
    "tags": []
   },
   "outputs": [
    {
     "name": "stderr",
     "output_type": "stream",
     "text": [
      "/opt/conda/lib/python3.10/site-packages/scipy/__init__.py:146: UserWarning: A NumPy version >=1.16.5 and <1.23.0 is required for this version of SciPy (detected version 1.23.5\n",
      "  warnings.warn(f\"A NumPy version >={np_minversion} and <{np_maxversion}\"\n"
     ]
    }
   ],
   "source": [
    "from sklearn.impute import SimpleImputer\n",
    "imputer = SimpleImputer(strategy='constant', fill_value=-999)\n",
    "column_to_impute=[]\n",
    "for i in range(len(zero.index)):\n",
    "    column_to_impute.append(zero.index[i])\n",
    "for col in column_to_impute:\n",
    "    imputed_column = imputer.fit_transform(x_train[[col]])\n",
    "    x_train[col] = imputed_column\n",
    "for col in column_to_impute:\n",
    "    imputed_column = imputer.fit_transform(x_test[[col]])\n",
    "    x_test[col] = imputed_column\n",
    "    "
   ]
  },
  {
   "cell_type": "code",
   "execution_count": 12,
   "id": "8da01ecc",
   "metadata": {
    "execution": {
     "iopub.execute_input": "2023-08-21T08:26:52.918595Z",
     "iopub.status.busy": "2023-08-21T08:26:52.917353Z",
     "iopub.status.idle": "2023-08-21T08:26:52.933661Z",
     "shell.execute_reply": "2023-08-21T08:26:52.932555Z"
    },
    "papermill": {
     "duration": 0.028952,
     "end_time": "2023-08-21T08:26:52.936235",
     "exception": false,
     "start_time": "2023-08-21T08:26:52.907283",
     "status": "completed"
    },
    "tags": []
   },
   "outputs": [],
   "source": [
    "for col,name in enumerate(x_train):\n",
    "    if col in categorical_indicies:\n",
    "        pass\n",
    "    else:\n",
    "        x_train[name] = x_train[name].astype(str)\n",
    "for col,name in enumerate(x_test):\n",
    "    if col in categorical_indicies:\n",
    "        pass\n",
    "    else:\n",
    "        x_test[name] = x_test[name].astype(str)"
   ]
  },
  {
   "cell_type": "code",
   "execution_count": 13,
   "id": "f0a3e3ee",
   "metadata": {
    "execution": {
     "iopub.execute_input": "2023-08-21T08:26:52.955257Z",
     "iopub.status.busy": "2023-08-21T08:26:52.954868Z",
     "iopub.status.idle": "2023-08-21T08:26:52.983674Z",
     "shell.execute_reply": "2023-08-21T08:26:52.982497Z"
    },
    "papermill": {
     "duration": 0.041175,
     "end_time": "2023-08-21T08:26:52.986209",
     "exception": false,
     "start_time": "2023-08-21T08:26:52.945034",
     "status": "completed"
    },
    "tags": []
   },
   "outputs": [
    {
     "name": "stdout",
     "output_type": "stream",
     "text": [
      "<class 'pandas.core.frame.DataFrame'>\n",
      "RangeIndex: 891 entries, 0 to 890\n",
      "Data columns (total 11 columns):\n",
      " #   Column       Non-Null Count  Dtype   \n",
      "---  ------       --------------  -----   \n",
      " 0   PassengerId  891 non-null    object  \n",
      " 1   Pclass       891 non-null    object  \n",
      " 2   Name         891 non-null    category\n",
      " 3   Sex          891 non-null    category\n",
      " 4   Age          891 non-null    object  \n",
      " 5   SibSp        891 non-null    object  \n",
      " 6   Parch        891 non-null    object  \n",
      " 7   Ticket       891 non-null    category\n",
      " 8   Fare         891 non-null    object  \n",
      " 9   Cabin        891 non-null    object  \n",
      " 10  Embarked     891 non-null    object  \n",
      "dtypes: category(3), object(8)\n",
      "memory usage: 121.0+ KB\n"
     ]
    }
   ],
   "source": [
    "x_train.info()"
   ]
  },
  {
   "cell_type": "code",
   "execution_count": 14,
   "id": "794852de",
   "metadata": {
    "execution": {
     "iopub.execute_input": "2023-08-21T08:26:53.006383Z",
     "iopub.status.busy": "2023-08-21T08:26:53.005955Z",
     "iopub.status.idle": "2023-08-21T08:26:53.011702Z",
     "shell.execute_reply": "2023-08-21T08:26:53.010519Z"
    },
    "papermill": {
     "duration": 0.019166,
     "end_time": "2023-08-21T08:26:53.014620",
     "exception": false,
     "start_time": "2023-08-21T08:26:52.995454",
     "status": "completed"
    },
    "tags": []
   },
   "outputs": [
    {
     "name": "stdout",
     "output_type": "stream",
     "text": [
      "(891, 11)\n",
      "(418, 11)\n",
      "(891,)\n"
     ]
    }
   ],
   "source": [
    "print(x_train.shape)\n",
    "print(x_test.shape)\n",
    "print(y_train.shape)"
   ]
  },
  {
   "cell_type": "code",
   "execution_count": 15,
   "id": "0f92d6bd",
   "metadata": {
    "execution": {
     "iopub.execute_input": "2023-08-21T08:26:53.034084Z",
     "iopub.status.busy": "2023-08-21T08:26:53.033664Z",
     "iopub.status.idle": "2023-08-21T08:26:53.042352Z",
     "shell.execute_reply": "2023-08-21T08:26:53.041271Z"
    },
    "papermill": {
     "duration": 0.021247,
     "end_time": "2023-08-21T08:26:53.044637",
     "exception": false,
     "start_time": "2023-08-21T08:26:53.023390",
     "status": "completed"
    },
    "tags": []
   },
   "outputs": [],
   "source": [
    "from sklearn.model_selection import train_test_split\n",
    "x_train2, x_test2, y_train2, y_test2 = train_test_split(x_train, y_train, test_size=0.1, random_state=2)"
   ]
  },
  {
   "cell_type": "code",
   "execution_count": 16,
   "id": "55a7a8bc",
   "metadata": {
    "execution": {
     "iopub.execute_input": "2023-08-21T08:26:53.063939Z",
     "iopub.status.busy": "2023-08-21T08:26:53.063592Z",
     "iopub.status.idle": "2023-08-21T08:26:53.614884Z",
     "shell.execute_reply": "2023-08-21T08:26:53.613846Z"
    },
    "papermill": {
     "duration": 0.56406,
     "end_time": "2023-08-21T08:26:53.617464",
     "exception": false,
     "start_time": "2023-08-21T08:26:53.053404",
     "status": "completed"
    },
    "tags": []
   },
   "outputs": [],
   "source": [
    "import catboost as cb\n",
    "train_dataset = cb.Pool(x_train2,y_train2,\n",
    "                        cat_features=categorical_indicies)\n",
    "test_dataset=cb.Pool(x_test2, y_test2, cat_features=categorical_indicies)"
   ]
  },
  {
   "cell_type": "code",
   "execution_count": 17,
   "id": "db0bc770",
   "metadata": {
    "execution": {
     "iopub.execute_input": "2023-08-21T08:26:53.637141Z",
     "iopub.status.busy": "2023-08-21T08:26:53.636413Z",
     "iopub.status.idle": "2023-08-21T08:26:57.365930Z",
     "shell.execute_reply": "2023-08-21T08:26:57.364799Z"
    },
    "papermill": {
     "duration": 3.741984,
     "end_time": "2023-08-21T08:26:57.368326",
     "exception": false,
     "start_time": "2023-08-21T08:26:53.626342",
     "status": "completed"
    },
    "tags": []
   },
   "outputs": [
    {
     "name": "stderr",
     "output_type": "stream",
     "text": [
      "Warning: Overfitting detector is active, thus evaluation metric is calculated on every iteration. 'metric_period' is ignored for evaluation metric.\n"
     ]
    },
    {
     "name": "stdout",
     "output_type": "stream",
     "text": [
      "0:\tlearn: 0.6818241\ttest: 0.6828561\tbest: 0.6828561 (0)\ttotal: 59ms\tremaining: 9m 50s\n",
      "100:\tlearn: 0.3308110\ttest: 0.4384676\tbest: 0.4384676 (100)\ttotal: 1.43s\tremaining: 2m 20s\n",
      "200:\tlearn: 0.2541757\ttest: 0.4262327\tbest: 0.4243963 (193)\ttotal: 3.05s\tremaining: 2m 28s\n",
      "Stopped by overfitting detector  (50 iterations wait)\n",
      "\n",
      "bestTest = 0.4243963241\n",
      "bestIteration = 193\n",
      "\n",
      "Shrink model to first 194 iterations.\n"
     ]
    },
    {
     "data": {
      "text/plain": [
       "<catboost.core.CatBoostClassifier at 0x7b0ce44afca0>"
      ]
     },
     "execution_count": 17,
     "metadata": {},
     "output_type": "execute_result"
    }
   ],
   "source": [
    "from catboost import CatBoostClassifier, Pool\n",
    "CAT=cb.CatBoostClassifier(iterations=10000,\n",
    "                          metric_period=100,\n",
    "#                           eval_metric='Accuracy',\n",
    "                          learning_rate=0.02,\n",
    "                          early_stopping_rounds = 50,\n",
    "                          depth=11,\n",
    "                         )\n",
    "CAT.fit(train_dataset,\n",
    "        eval_set=test_dataset\n",
    "       )"
   ]
  },
  {
   "cell_type": "code",
   "execution_count": 18,
   "id": "e7f09b97",
   "metadata": {
    "execution": {
     "iopub.execute_input": "2023-08-21T08:26:57.388902Z",
     "iopub.status.busy": "2023-08-21T08:26:57.388479Z",
     "iopub.status.idle": "2023-08-21T08:26:57.401790Z",
     "shell.execute_reply": "2023-08-21T08:26:57.400645Z"
    },
    "papermill": {
     "duration": 0.026425,
     "end_time": "2023-08-21T08:26:57.404090",
     "exception": false,
     "start_time": "2023-08-21T08:26:57.377665",
     "status": "completed"
    },
    "tags": []
   },
   "outputs": [],
   "source": [
    "import catboost as cb\n",
    "train_dataset = cb.Pool(x_train,y_train,\n",
    "                        cat_features=categorical_indicies)"
   ]
  },
  {
   "cell_type": "code",
   "execution_count": 19,
   "id": "9ec6925f",
   "metadata": {
    "execution": {
     "iopub.execute_input": "2023-08-21T08:26:57.424498Z",
     "iopub.status.busy": "2023-08-21T08:26:57.424060Z",
     "iopub.status.idle": "2023-08-21T08:27:01.054316Z",
     "shell.execute_reply": "2023-08-21T08:27:01.053458Z"
    },
    "papermill": {
     "duration": 3.643024,
     "end_time": "2023-08-21T08:27:01.056541",
     "exception": false,
     "start_time": "2023-08-21T08:26:57.413517",
     "status": "completed"
    },
    "tags": []
   },
   "outputs": [
    {
     "name": "stdout",
     "output_type": "stream",
     "text": [
      "0:\tlearn: 0.6795237\ttotal: 28.8ms\tremaining: 5.72s\n",
      "1:\tlearn: 0.6697939\ttotal: 31.8ms\tremaining: 3.15s\n",
      "2:\tlearn: 0.6582622\ttotal: 37.3ms\tremaining: 2.45s\n",
      "3:\tlearn: 0.6480543\ttotal: 41.7ms\tremaining: 2.04s\n",
      "4:\tlearn: 0.6365184\ttotal: 64.2ms\tremaining: 2.5s\n",
      "5:\tlearn: 0.6306162\ttotal: 66.2ms\tremaining: 2.14s\n",
      "6:\tlearn: 0.6186813\ttotal: 87.6ms\tremaining: 2.42s\n",
      "7:\tlearn: 0.6102999\ttotal: 91.9ms\tremaining: 2.21s\n",
      "8:\tlearn: 0.6030368\ttotal: 94.2ms\tremaining: 2s\n",
      "9:\tlearn: 0.5939222\ttotal: 99.6ms\tremaining: 1.89s\n",
      "10:\tlearn: 0.5867468\ttotal: 105ms\tremaining: 1.8s\n",
      "11:\tlearn: 0.5767395\ttotal: 124ms\tremaining: 1.95s\n",
      "12:\tlearn: 0.5684875\ttotal: 143ms\tremaining: 2.06s\n",
      "13:\tlearn: 0.5614301\ttotal: 156ms\tremaining: 2.07s\n",
      "14:\tlearn: 0.5523438\ttotal: 183ms\tremaining: 2.26s\n",
      "15:\tlearn: 0.5441196\ttotal: 202ms\tremaining: 2.32s\n",
      "16:\tlearn: 0.5378775\ttotal: 205ms\tremaining: 2.2s\n",
      "17:\tlearn: 0.5340486\ttotal: 208ms\tremaining: 2.11s\n",
      "18:\tlearn: 0.5270123\ttotal: 228ms\tremaining: 2.17s\n",
      "19:\tlearn: 0.5227583\ttotal: 231ms\tremaining: 2.08s\n",
      "20:\tlearn: 0.5157032\ttotal: 242ms\tremaining: 2.06s\n",
      "21:\tlearn: 0.5103242\ttotal: 246ms\tremaining: 1.99s\n",
      "22:\tlearn: 0.5037933\ttotal: 257ms\tremaining: 1.98s\n",
      "23:\tlearn: 0.4973846\ttotal: 266ms\tremaining: 1.95s\n",
      "24:\tlearn: 0.4917592\ttotal: 287ms\tremaining: 2.01s\n",
      "25:\tlearn: 0.4857526\ttotal: 307ms\tremaining: 2.06s\n",
      "26:\tlearn: 0.4816448\ttotal: 310ms\tremaining: 1.99s\n",
      "27:\tlearn: 0.4774509\ttotal: 331ms\tremaining: 2.03s\n",
      "28:\tlearn: 0.4736873\ttotal: 336ms\tremaining: 1.98s\n",
      "29:\tlearn: 0.4685756\ttotal: 339ms\tremaining: 1.92s\n",
      "30:\tlearn: 0.4668765\ttotal: 341ms\tremaining: 1.86s\n",
      "31:\tlearn: 0.4618746\ttotal: 362ms\tremaining: 1.9s\n",
      "32:\tlearn: 0.4576964\ttotal: 370ms\tremaining: 1.87s\n",
      "33:\tlearn: 0.4524551\ttotal: 393ms\tremaining: 1.92s\n",
      "34:\tlearn: 0.4487289\ttotal: 417ms\tremaining: 1.97s\n",
      "35:\tlearn: 0.4467663\ttotal: 419ms\tremaining: 1.91s\n",
      "36:\tlearn: 0.4419401\ttotal: 442ms\tremaining: 1.95s\n",
      "37:\tlearn: 0.4372484\ttotal: 464ms\tremaining: 1.98s\n",
      "38:\tlearn: 0.4335338\ttotal: 490ms\tremaining: 2.02s\n",
      "39:\tlearn: 0.4314077\ttotal: 492ms\tremaining: 1.97s\n",
      "40:\tlearn: 0.4295548\ttotal: 494ms\tremaining: 1.92s\n",
      "41:\tlearn: 0.4273689\ttotal: 502ms\tremaining: 1.89s\n",
      "42:\tlearn: 0.4241002\ttotal: 508ms\tremaining: 1.85s\n",
      "43:\tlearn: 0.4196560\ttotal: 529ms\tremaining: 1.88s\n",
      "44:\tlearn: 0.4169625\ttotal: 555ms\tremaining: 1.91s\n",
      "45:\tlearn: 0.4157335\ttotal: 557ms\tremaining: 1.86s\n",
      "46:\tlearn: 0.4149518\ttotal: 559ms\tremaining: 1.82s\n",
      "47:\tlearn: 0.4130533\ttotal: 562ms\tremaining: 1.78s\n",
      "48:\tlearn: 0.4113534\ttotal: 566ms\tremaining: 1.74s\n",
      "49:\tlearn: 0.4093206\ttotal: 569ms\tremaining: 1.71s\n",
      "50:\tlearn: 0.4077267\ttotal: 574ms\tremaining: 1.68s\n",
      "51:\tlearn: 0.4060623\ttotal: 599ms\tremaining: 1.7s\n",
      "52:\tlearn: 0.4052344\ttotal: 600ms\tremaining: 1.67s\n",
      "53:\tlearn: 0.4033307\ttotal: 622ms\tremaining: 1.68s\n",
      "54:\tlearn: 0.4000339\ttotal: 647ms\tremaining: 1.71s\n",
      "55:\tlearn: 0.3974056\ttotal: 667ms\tremaining: 1.72s\n",
      "56:\tlearn: 0.3935059\ttotal: 691ms\tremaining: 1.73s\n",
      "57:\tlearn: 0.3907157\ttotal: 716ms\tremaining: 1.75s\n",
      "58:\tlearn: 0.3886195\ttotal: 741ms\tremaining: 1.77s\n",
      "59:\tlearn: 0.3875997\ttotal: 745ms\tremaining: 1.74s\n",
      "60:\tlearn: 0.3855353\ttotal: 767ms\tremaining: 1.75s\n",
      "61:\tlearn: 0.3840283\ttotal: 787ms\tremaining: 1.75s\n",
      "62:\tlearn: 0.3815429\ttotal: 809ms\tremaining: 1.76s\n",
      "63:\tlearn: 0.3789749\ttotal: 833ms\tremaining: 1.77s\n",
      "64:\tlearn: 0.3773713\ttotal: 837ms\tremaining: 1.74s\n",
      "65:\tlearn: 0.3751404\ttotal: 859ms\tremaining: 1.74s\n",
      "66:\tlearn: 0.3728759\ttotal: 884ms\tremaining: 1.75s\n",
      "67:\tlearn: 0.3704154\ttotal: 907ms\tremaining: 1.76s\n",
      "68:\tlearn: 0.3695781\ttotal: 910ms\tremaining: 1.73s\n",
      "69:\tlearn: 0.3669830\ttotal: 934ms\tremaining: 1.73s\n",
      "70:\tlearn: 0.3665004\ttotal: 937ms\tremaining: 1.7s\n",
      "71:\tlearn: 0.3643519\ttotal: 959ms\tremaining: 1.71s\n",
      "72:\tlearn: 0.3639011\ttotal: 961ms\tremaining: 1.67s\n",
      "73:\tlearn: 0.3617729\ttotal: 987ms\tremaining: 1.68s\n",
      "74:\tlearn: 0.3599151\ttotal: 1.01s\tremaining: 1.68s\n",
      "75:\tlearn: 0.3597739\ttotal: 1.01s\tremaining: 1.65s\n",
      "76:\tlearn: 0.3574299\ttotal: 1.03s\tremaining: 1.65s\n",
      "77:\tlearn: 0.3548112\ttotal: 1.05s\tremaining: 1.65s\n",
      "78:\tlearn: 0.3533366\ttotal: 1.06s\tremaining: 1.62s\n",
      "79:\tlearn: 0.3511104\ttotal: 1.09s\tremaining: 1.63s\n",
      "80:\tlearn: 0.3509241\ttotal: 1.09s\tremaining: 1.6s\n",
      "81:\tlearn: 0.3492678\ttotal: 1.11s\tremaining: 1.6s\n",
      "82:\tlearn: 0.3484548\ttotal: 1.11s\tremaining: 1.57s\n",
      "83:\tlearn: 0.3467236\ttotal: 1.14s\tremaining: 1.57s\n",
      "84:\tlearn: 0.3450138\ttotal: 1.16s\tremaining: 1.57s\n",
      "85:\tlearn: 0.3433982\ttotal: 1.18s\tremaining: 1.57s\n",
      "86:\tlearn: 0.3418994\ttotal: 1.2s\tremaining: 1.56s\n",
      "87:\tlearn: 0.3406630\ttotal: 1.23s\tremaining: 1.56s\n",
      "88:\tlearn: 0.3391454\ttotal: 1.26s\tremaining: 1.57s\n",
      "89:\tlearn: 0.3373964\ttotal: 1.29s\tremaining: 1.57s\n",
      "90:\tlearn: 0.3361720\ttotal: 1.33s\tremaining: 1.59s\n",
      "91:\tlearn: 0.3348022\ttotal: 1.36s\tremaining: 1.59s\n",
      "92:\tlearn: 0.3328681\ttotal: 1.39s\tremaining: 1.59s\n",
      "93:\tlearn: 0.3320867\ttotal: 1.42s\tremaining: 1.6s\n",
      "94:\tlearn: 0.3307167\ttotal: 1.45s\tremaining: 1.6s\n",
      "95:\tlearn: 0.3291130\ttotal: 1.48s\tremaining: 1.6s\n",
      "96:\tlearn: 0.3281725\ttotal: 1.48s\tremaining: 1.58s\n",
      "97:\tlearn: 0.3274076\ttotal: 1.51s\tremaining: 1.57s\n",
      "98:\tlearn: 0.3261354\ttotal: 1.54s\tremaining: 1.57s\n",
      "99:\tlearn: 0.3246992\ttotal: 1.57s\tremaining: 1.57s\n",
      "100:\tlearn: 0.3236409\ttotal: 1.6s\tremaining: 1.57s\n",
      "101:\tlearn: 0.3223640\ttotal: 1.64s\tremaining: 1.57s\n",
      "102:\tlearn: 0.3205819\ttotal: 1.67s\tremaining: 1.57s\n",
      "103:\tlearn: 0.3185149\ttotal: 1.7s\tremaining: 1.56s\n",
      "104:\tlearn: 0.3177963\ttotal: 1.73s\tremaining: 1.57s\n",
      "105:\tlearn: 0.3173632\ttotal: 1.74s\tremaining: 1.54s\n",
      "106:\tlearn: 0.3161281\ttotal: 1.77s\tremaining: 1.54s\n",
      "107:\tlearn: 0.3158221\ttotal: 1.77s\tremaining: 1.51s\n",
      "108:\tlearn: 0.3145435\ttotal: 1.8s\tremaining: 1.5s\n",
      "109:\tlearn: 0.3129125\ttotal: 1.84s\tremaining: 1.51s\n",
      "110:\tlearn: 0.3116026\ttotal: 1.87s\tremaining: 1.5s\n",
      "111:\tlearn: 0.3096794\ttotal: 1.9s\tremaining: 1.49s\n",
      "112:\tlearn: 0.3088735\ttotal: 1.92s\tremaining: 1.48s\n",
      "113:\tlearn: 0.3082170\ttotal: 1.94s\tremaining: 1.46s\n",
      "114:\tlearn: 0.3079272\ttotal: 1.94s\tremaining: 1.43s\n",
      "115:\tlearn: 0.3069018\ttotal: 1.97s\tremaining: 1.42s\n",
      "116:\tlearn: 0.3059720\ttotal: 1.99s\tremaining: 1.41s\n",
      "117:\tlearn: 0.3053075\ttotal: 2.03s\tremaining: 1.41s\n",
      "118:\tlearn: 0.3044388\ttotal: 2.06s\tremaining: 1.41s\n",
      "119:\tlearn: 0.3025417\ttotal: 2.1s\tremaining: 1.4s\n",
      "120:\tlearn: 0.3016162\ttotal: 2.13s\tremaining: 1.39s\n",
      "121:\tlearn: 0.3013009\ttotal: 2.13s\tremaining: 1.36s\n",
      "122:\tlearn: 0.3010950\ttotal: 2.13s\tremaining: 1.33s\n",
      "123:\tlearn: 0.3005235\ttotal: 2.14s\tremaining: 1.31s\n",
      "124:\tlearn: 0.2996171\ttotal: 2.17s\tremaining: 1.3s\n",
      "125:\tlearn: 0.2995105\ttotal: 2.17s\tremaining: 1.27s\n",
      "126:\tlearn: 0.2993725\ttotal: 2.18s\tremaining: 1.25s\n",
      "127:\tlearn: 0.2981035\ttotal: 2.2s\tremaining: 1.24s\n",
      "128:\tlearn: 0.2979075\ttotal: 2.21s\tremaining: 1.21s\n",
      "129:\tlearn: 0.2968401\ttotal: 2.23s\tremaining: 1.2s\n",
      "130:\tlearn: 0.2956236\ttotal: 2.26s\tremaining: 1.19s\n",
      "131:\tlearn: 0.2947041\ttotal: 2.29s\tremaining: 1.18s\n",
      "132:\tlearn: 0.2941867\ttotal: 2.3s\tremaining: 1.16s\n",
      "133:\tlearn: 0.2927430\ttotal: 2.33s\tremaining: 1.15s\n",
      "134:\tlearn: 0.2926380\ttotal: 2.33s\tremaining: 1.12s\n",
      "135:\tlearn: 0.2924191\ttotal: 2.33s\tremaining: 1.1s\n",
      "136:\tlearn: 0.2922703\ttotal: 2.34s\tremaining: 1.08s\n",
      "137:\tlearn: 0.2918591\ttotal: 2.37s\tremaining: 1.06s\n",
      "138:\tlearn: 0.2912908\ttotal: 2.4s\tremaining: 1.05s\n",
      "139:\tlearn: 0.2900937\ttotal: 2.44s\tremaining: 1.04s\n",
      "140:\tlearn: 0.2896382\ttotal: 2.46s\tremaining: 1.03s\n",
      "141:\tlearn: 0.2895681\ttotal: 2.46s\tremaining: 1.01s\n",
      "142:\tlearn: 0.2894207\ttotal: 2.47s\tremaining: 984ms\n",
      "143:\tlearn: 0.2889943\ttotal: 2.5s\tremaining: 970ms\n",
      "144:\tlearn: 0.2888337\ttotal: 2.5s\tremaining: 948ms\n",
      "145:\tlearn: 0.2879701\ttotal: 2.52s\tremaining: 934ms\n",
      "146:\tlearn: 0.2879268\ttotal: 2.53s\tremaining: 911ms\n",
      "147:\tlearn: 0.2875582\ttotal: 2.54s\tremaining: 891ms\n",
      "148:\tlearn: 0.2859257\ttotal: 2.57s\tremaining: 879ms\n",
      "149:\tlearn: 0.2858522\ttotal: 2.57s\tremaining: 857ms\n",
      "150:\tlearn: 0.2850056\ttotal: 2.6s\tremaining: 843ms\n",
      "151:\tlearn: 0.2843972\ttotal: 2.63s\tremaining: 830ms\n",
      "152:\tlearn: 0.2834039\ttotal: 2.66s\tremaining: 816ms\n",
      "153:\tlearn: 0.2821861\ttotal: 2.68s\tremaining: 802ms\n",
      "154:\tlearn: 0.2820374\ttotal: 2.69s\tremaining: 780ms\n",
      "155:\tlearn: 0.2805866\ttotal: 2.71s\tremaining: 765ms\n",
      "156:\tlearn: 0.2792491\ttotal: 2.74s\tremaining: 751ms\n",
      "157:\tlearn: 0.2783940\ttotal: 2.77s\tremaining: 737ms\n",
      "158:\tlearn: 0.2779601\ttotal: 2.8s\tremaining: 722ms\n",
      "159:\tlearn: 0.2776244\ttotal: 2.83s\tremaining: 707ms\n",
      "160:\tlearn: 0.2771792\ttotal: 2.84s\tremaining: 689ms\n",
      "161:\tlearn: 0.2771278\ttotal: 2.85s\tremaining: 668ms\n",
      "162:\tlearn: 0.2771153\ttotal: 2.85s\tremaining: 646ms\n",
      "163:\tlearn: 0.2764840\ttotal: 2.87s\tremaining: 631ms\n",
      "164:\tlearn: 0.2762916\ttotal: 2.9s\tremaining: 615ms\n",
      "165:\tlearn: 0.2760425\ttotal: 2.93s\tremaining: 600ms\n",
      "166:\tlearn: 0.2757314\ttotal: 2.96s\tremaining: 584ms\n",
      "167:\tlearn: 0.2748114\ttotal: 2.98s\tremaining: 569ms\n",
      "168:\tlearn: 0.2733301\ttotal: 3.01s\tremaining: 552ms\n",
      "169:\tlearn: 0.2733227\ttotal: 3.01s\tremaining: 532ms\n",
      "170:\tlearn: 0.2733066\ttotal: 3.02s\tremaining: 511ms\n",
      "171:\tlearn: 0.2725778\ttotal: 3.04s\tremaining: 495ms\n",
      "172:\tlearn: 0.2720133\ttotal: 3.06s\tremaining: 477ms\n",
      "173:\tlearn: 0.2718064\ttotal: 3.06s\tremaining: 458ms\n",
      "174:\tlearn: 0.2717210\ttotal: 3.07s\tremaining: 438ms\n",
      "175:\tlearn: 0.2707118\ttotal: 3.09s\tremaining: 421ms\n",
      "176:\tlearn: 0.2706967\ttotal: 3.09s\tremaining: 402ms\n",
      "177:\tlearn: 0.2706927\ttotal: 3.09s\tremaining: 382ms\n",
      "178:\tlearn: 0.2701193\ttotal: 3.12s\tremaining: 366ms\n",
      "179:\tlearn: 0.2700859\ttotal: 3.12s\tremaining: 347ms\n",
      "180:\tlearn: 0.2691077\ttotal: 3.14s\tremaining: 330ms\n",
      "181:\tlearn: 0.2681856\ttotal: 3.16s\tremaining: 313ms\n",
      "182:\tlearn: 0.2673979\ttotal: 3.18s\tremaining: 296ms\n",
      "183:\tlearn: 0.2666847\ttotal: 3.21s\tremaining: 279ms\n",
      "184:\tlearn: 0.2664219\ttotal: 3.23s\tremaining: 262ms\n",
      "185:\tlearn: 0.2657243\ttotal: 3.25s\tremaining: 245ms\n",
      "186:\tlearn: 0.2650704\ttotal: 3.27s\tremaining: 228ms\n",
      "187:\tlearn: 0.2640978\ttotal: 3.3s\tremaining: 211ms\n",
      "188:\tlearn: 0.2639031\ttotal: 3.33s\tremaining: 194ms\n",
      "189:\tlearn: 0.2630791\ttotal: 3.35s\tremaining: 176ms\n",
      "190:\tlearn: 0.2625159\ttotal: 3.37s\tremaining: 159ms\n",
      "191:\tlearn: 0.2619497\ttotal: 3.4s\tremaining: 142ms\n",
      "192:\tlearn: 0.2616776\ttotal: 3.42s\tremaining: 124ms\n",
      "193:\tlearn: 0.2604937\ttotal: 3.45s\tremaining: 107ms\n",
      "194:\tlearn: 0.2596321\ttotal: 3.47s\tremaining: 89ms\n",
      "195:\tlearn: 0.2596265\ttotal: 3.48s\tremaining: 70.9ms\n",
      "196:\tlearn: 0.2594835\ttotal: 3.48s\tremaining: 53ms\n",
      "197:\tlearn: 0.2586540\ttotal: 3.5s\tremaining: 35.4ms\n",
      "198:\tlearn: 0.2577364\ttotal: 3.52s\tremaining: 17.7ms\n",
      "199:\tlearn: 0.2577180\ttotal: 3.53s\tremaining: 0us\n"
     ]
    },
    {
     "data": {
      "text/plain": [
       "<catboost.core.CatBoostClassifier at 0x7b0ce44d4a60>"
      ]
     },
     "execution_count": 19,
     "metadata": {},
     "output_type": "execute_result"
    }
   ],
   "source": [
    "CAT=cb.CatBoostClassifier(iterations=200,\n",
    "#                           metric_period=100,\n",
    "#                           eval_metric='Accuracy',\n",
    "                          learning_rate=0.02,\n",
    "                          early_stopping_rounds = 50,\n",
    "                          depth=11,\n",
    "                         )\n",
    "CAT.fit(train_dataset\n",
    "       )"
   ]
  },
  {
   "cell_type": "code",
   "execution_count": 20,
   "id": "3a665867",
   "metadata": {
    "execution": {
     "iopub.execute_input": "2023-08-21T08:27:01.084024Z",
     "iopub.status.busy": "2023-08-21T08:27:01.082996Z",
     "iopub.status.idle": "2023-08-21T08:27:01.103054Z",
     "shell.execute_reply": "2023-08-21T08:27:01.102002Z"
    },
    "papermill": {
     "duration": 0.036179,
     "end_time": "2023-08-21T08:27:01.105347",
     "exception": false,
     "start_time": "2023-08-21T08:27:01.069168",
     "status": "completed"
    },
    "tags": []
   },
   "outputs": [
    {
     "data": {
      "text/plain": [
       "array([0, 0, 0, 0, 1, 0, 0, 0, 1, 0, 0, 0, 1, 0, 1, 1, 0, 0, 0, 0, 0, 0,\n",
       "       1, 0, 1, 0, 1, 0, 0, 0, 0, 0, 1, 0, 1, 0, 0, 0, 0, 1, 0, 0, 0, 1,\n",
       "       1, 0, 0, 0, 1, 1, 0, 0, 1, 1, 0, 0, 0, 0, 0, 1, 0, 0, 0, 0, 1, 1,\n",
       "       1, 0, 1, 1, 0, 0, 0, 1, 1, 0, 0, 1, 0, 0, 0, 0, 0, 0, 0, 0, 0, 0,\n",
       "       1, 1, 0, 0, 1, 0, 0, 0, 1, 0, 0, 0, 1, 0, 0, 0, 1, 0, 0, 0, 0, 0,\n",
       "       0, 1, 1, 1, 1, 0, 0, 1, 1, 1, 1, 0, 1, 0, 0, 0, 0, 1, 0, 0, 0, 0,\n",
       "       0, 0, 0, 0, 0, 0, 0, 0, 0, 1, 0, 0, 0, 0, 0, 0, 0, 0, 1, 0, 0, 1,\n",
       "       0, 0, 1, 0, 0, 1, 1, 1, 1, 0, 0, 1, 0, 0, 1, 0, 0, 0, 0, 0, 0, 1,\n",
       "       1, 1, 1, 1, 0, 1, 1, 0, 1, 0, 1, 0, 0, 0, 0, 0, 0, 0, 1, 0, 1, 0,\n",
       "       0, 0, 1, 0, 1, 1, 0, 0, 0, 0, 1, 0, 0, 0, 0, 1, 0, 0, 1, 0, 1, 0,\n",
       "       1, 0, 1, 0, 1, 1, 0, 1, 0, 0, 0, 1, 0, 0, 1, 0, 1, 0, 1, 1, 1, 1,\n",
       "       0, 0, 0, 1, 1, 0, 1, 1, 1, 0, 1, 0, 0, 0, 0, 0, 1, 0, 0, 0, 1, 1,\n",
       "       0, 0, 0, 0, 0, 0, 0, 0, 1, 1, 0, 1, 0, 0, 0, 0, 0, 0, 1, 1, 0, 0,\n",
       "       0, 0, 0, 0, 0, 0, 0, 0, 0, 0, 1, 0, 0, 0, 0, 0, 0, 0, 1, 1, 0, 1,\n",
       "       0, 0, 0, 0, 0, 0, 1, 1, 1, 0, 0, 0, 0, 0, 0, 0, 1, 0, 1, 0, 0, 0,\n",
       "       1, 1, 0, 1, 0, 1, 0, 0, 0, 0, 0, 0, 0, 1, 0, 0, 0, 0, 0, 1, 1, 0,\n",
       "       0, 0, 1, 0, 1, 0, 0, 0, 0, 1, 1, 0, 1, 0, 0, 0, 1, 0, 0, 1, 0, 0,\n",
       "       1, 1, 0, 0, 0, 0, 0, 0, 0, 0, 0, 1, 0, 0, 0, 0, 1, 1, 1, 0, 0, 1,\n",
       "       0, 1, 0, 0, 1, 0, 1, 0, 1, 0, 0, 0, 1, 1, 1, 1, 0, 0, 1, 0, 0, 1])"
      ]
     },
     "execution_count": 20,
     "metadata": {},
     "output_type": "execute_result"
    }
   ],
   "source": [
    "predictions=CAT.predict(x_test)\n",
    "predictions"
   ]
  },
  {
   "cell_type": "code",
   "execution_count": 21,
   "id": "f745c4be",
   "metadata": {
    "execution": {
     "iopub.execute_input": "2023-08-21T08:27:01.132608Z",
     "iopub.status.busy": "2023-08-21T08:27:01.132236Z",
     "iopub.status.idle": "2023-08-21T08:27:01.142843Z",
     "shell.execute_reply": "2023-08-21T08:27:01.141493Z"
    },
    "papermill": {
     "duration": 0.027075,
     "end_time": "2023-08-21T08:27:01.145191",
     "exception": false,
     "start_time": "2023-08-21T08:27:01.118116",
     "status": "completed"
    },
    "tags": []
   },
   "outputs": [
    {
     "name": "stdout",
     "output_type": "stream",
     "text": [
      "Your submission was successfully saved!\n"
     ]
    }
   ],
   "source": [
    "output = pd.DataFrame({'PassengerId': test_data.PassengerId, 'Survived': predictions})\n",
    "output.to_csv('submission.csv', index=False)\n",
    "print(\"Your submission was successfully saved!\")"
   ]
  }
 ],
 "metadata": {
  "kernelspec": {
   "display_name": "Python 3",
   "language": "python",
   "name": "python3"
  },
  "language_info": {
   "codemirror_mode": {
    "name": "ipython",
    "version": 3
   },
   "file_extension": ".py",
   "mimetype": "text/x-python",
   "name": "python",
   "nbconvert_exporter": "python",
   "pygments_lexer": "ipython3",
   "version": "3.10.12"
  },
  "papermill": {
   "default_parameters": {},
   "duration": 22.225031,
   "end_time": "2023-08-21T08:27:02.079929",
   "environment_variables": {},
   "exception": null,
   "input_path": "__notebook__.ipynb",
   "output_path": "__notebook__.ipynb",
   "parameters": {},
   "start_time": "2023-08-21T08:26:39.854898",
   "version": "2.4.0"
  }
 },
 "nbformat": 4,
 "nbformat_minor": 5
}
